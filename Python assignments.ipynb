{
 "cells": [
  {
   "cell_type": "markdown",
   "id": "3517bb29",
   "metadata": {},
   "source": [
    "1. Write a Python script to generate and print a dictionary that contains a number (between\n",
    "1 and n) in the form (x, x*x)\n",
    "Sample Dictionary ( n = 5) :\n",
    "Expected Output : {1: 1, 2: 4, 3: 9, 4: 16, 5: 25}"
   ]
  },
  {
   "cell_type": "code",
   "execution_count": null,
   "id": "1a122303",
   "metadata": {},
   "outputs": [],
   "source": [
    "#1\n",
    "dict1= {}\n",
    "\n",
    "\n",
    "for i in range (1, 6):\n",
    "        dict1[i]=i ** 2\n",
    "        \n",
    "    \n",
    "print(dict1)"
   ]
  },
  {
   "cell_type": "markdown",
   "id": "f43df80a",
   "metadata": {},
   "source": [
    "2. Write a Python program to combine two dictionary adding values for common keys"
   ]
  },
  {
   "cell_type": "code",
   "execution_count": 2,
   "id": "00007b63",
   "metadata": {},
   "outputs": [
    {
     "name": "stdout",
     "output_type": "stream",
     "text": [
      "{'a': 400, 'b': 400, 'c': 300, 'd': 400}\n"
     ]
    }
   ],
   "source": [
    "#2\n",
    "d1={'a':100, 'b':200, 'c':300}\n",
    "d2={'a':300, 'b':200, 'd':400}\n",
    "d3={}\n",
    "\n",
    "for key in d1:\n",
    "    d3[key]=d1[key]\n",
    "    \n",
    "for key in d2:\n",
    "    if key in d3:\n",
    "        d3[key]+=d2[key]\n",
    "    else:\n",
    "        d3[key]=d2[key]\n",
    "print(d3)\n",
    "            "
   ]
  },
  {
   "cell_type": "markdown",
   "id": "7135345a",
   "metadata": {},
   "source": [
    "3. Write a Python program to print all unique values in a dictionary"
   ]
  },
  {
   "cell_type": "code",
   "execution_count": 5,
   "id": "92ffe7ab",
   "metadata": {},
   "outputs": [
    {
     "name": "stdout",
     "output_type": "stream",
     "text": [
      "{'S001', 'S002', 'S007', 'S005', 'S009'}\n"
     ]
    }
   ],
   "source": [
    " #3\n",
    "data = [{\"V\":\"S001\"}, {\"V\": \"S002\"}, {\"VI\": \"S001\"}, {\"VI\": \"S005\"}, {\"VII\":\"S005\"}, {\"V\":\"S009\"},{\"VIII\":\"S007\"}]\n",
    "set1 = set()\n",
    "for item in data:\n",
    "#     print(item.values())\n",
    "    set1.update(item.values())\n",
    "print(set1)\n"
   ]
  },
  {
   "cell_type": "markdown",
   "id": "6aab9a09",
   "metadata": {},
   "source": [
    "4. Write a Python program to create and display all combinations of letters, selecting each"
   ]
  },
  {
   "cell_type": "code",
   "execution_count": 8,
   "id": "6255c704",
   "metadata": {},
   "outputs": [
    {
     "name": "stdout",
     "output_type": "stream",
     "text": [
      "ac ad bc bd "
     ]
    }
   ],
   "source": [
    "#4\n",
    "dict1 = {'1':['a','b'], '2':['c','d']}\n",
    "for x in ['a','b']:\n",
    "    for y in ['c','d']:\n",
    "        print(x,y, sep=\"\",end=\" \")"
   ]
  },
  {
   "cell_type": "markdown",
   "id": "42f45300",
   "metadata": {},
   "source": [
    "5. Write a Python program to create a dictionary from a string"
   ]
  },
  {
   "cell_type": "code",
   "execution_count": 10,
   "id": "ab83b059",
   "metadata": {},
   "outputs": [
    {
     "name": "stdout",
     "output_type": "stream",
     "text": [
      "{'w': 1, '3': 1, 'r': 2, 'e': 2, 's': 1, 'o': 1, 'u': 1, 'c': 1}\n"
     ]
    }
   ],
   "source": [
    "#5\n",
    "s1 = 'w3resource'\n",
    "# type(s1)\n",
    "dict3 = {}\n",
    "\n",
    "for char in s1:\n",
    "    if char in dict3:\n",
    "        dict3[char] += 1\n",
    "    else:\n",
    "        dict3[char] = 1\n",
    "print(dict3)"
   ]
  },
  {
   "cell_type": "markdown",
   "id": "1c5b808f",
   "metadata": {},
   "source": [
    "6. Write a Python program to count the values associated with key in a dictionary."
   ]
  },
  {
   "cell_type": "code",
   "execution_count": 13,
   "id": "3dfc107a",
   "metadata": {},
   "outputs": [
    {
     "name": "stdout",
     "output_type": "stream",
     "text": [
      "2\n"
     ]
    }
   ],
   "source": [
    "#6\n",
    "data=[{'id':1, 'success':True, 'name':'Lary'},{'id':2, 'success':False, 'name':'Rabi'}, {'id':3, 'success':True, 'name':'Alex'}]\n",
    "type(data)\n",
    "dict4={}\n",
    "\n",
    "print(sum(dict4['success']for dict4 in data))"
   ]
  },
  {
   "cell_type": "markdown",
   "id": "0a977b4b",
   "metadata": {},
   "source": [
    "7. Write a Python program to convert a list into a nested dictionary of keys"
   ]
  },
  {
   "cell_type": "code",
   "execution_count": 2,
   "id": "c9762110",
   "metadata": {},
   "outputs": [
    {
     "name": "stdout",
     "output_type": "stream",
     "text": [
      "[{}, 'd', 'c', 'b', 'a']\n"
     ]
    }
   ],
   "source": [
    "#7\n",
    "# problem : ['a', 'b', 'c', 'd']\n",
    "\n",
    "#ans : {'a':{'b':{'c':{'d':{}}}}}\n",
    "\n",
    "li = ['a', 'b', 'c', 'd']\n",
    "print(list(reversed(li + [dict()])))\n",
    "\n",
    "# reduce(lambda x, y: {y:x}, reversed(li+[dict()]))"
   ]
  },
  {
   "cell_type": "markdown",
   "id": "2d4b0f4c",
   "metadata": {},
   "source": [
    "8. Write a Python program to sort a list alphabetically in a dictionary.\n"
   ]
  },
  {
   "cell_type": "code",
   "execution_count": 25,
   "id": "dc4b298b",
   "metadata": {},
   "outputs": [
    {
     "name": "stdout",
     "output_type": "stream",
     "text": [
      "{'fruits': ['apple', 'bannana', 'cherry', 'date'], 'colours': ['blue', 'pink', 'red', 'white'], 'name': ['anish', 'bob', 'chandu', 'devil']}\n"
     ]
    }
   ],
   "source": [
    "my_dict={'fruits':[\"apple\", \"bannana\", \"cherry\", \"date\"],\n",
    "        'colours':[\"red\", \"blue\", \"pink\", \"white\"],\n",
    "        'name':[\"anish\", \"bob\", \"chandu\", \"devil\"]\n",
    "        }\n",
    "for key,val in my_dict.items():\n",
    "#         my_dict.update((key,sorted(val)))\n",
    "    my_dict[key]=sorted(val)\n",
    "print(my_dict)"
   ]
  },
  {
   "cell_type": "markdown",
   "id": "a32db5ab",
   "metadata": {},
   "source": [
    "9. Write a Python program to sort Counter by value"
   ]
  },
  {
   "cell_type": "code",
   "execution_count": 23,
   "id": "66278919",
   "metadata": {},
   "outputs": [
    {
     "name": "stdout",
     "output_type": "stream",
     "text": [
      "[('chemistry', 87), ('physics', 83), ('math', 81)]\n"
     ]
    }
   ],
   "source": [
    "#9 \n",
    "my_data= {'math':81, 'physics':83, 'chemistry':87}\n",
    "my_data= list(my_data.items())\n",
    "my_data.sort(reverse= True, key=lambda x: x[1])\n",
    "\n",
    "print(my_data)"
   ]
  },
  {
   "cell_type": "code",
   "execution_count": 18,
   "id": "b1984668",
   "metadata": {},
   "outputs": [
    {
     "name": "stdout",
     "output_type": "stream",
     "text": [
      "Help on method_descriptor:\n",
      "\n",
      "sort(self, /, *, key=None, reverse=False)\n",
      "    Sort the list in ascending order and return None.\n",
      "    \n",
      "    The sort is in-place (i.e. the list itself is modified) and stable (i.e. the\n",
      "    order of two equal elements is maintained).\n",
      "    \n",
      "    If a key function is given, apply it once to each list item and sort them,\n",
      "    ascending or descending, according to their function values.\n",
      "    \n",
      "    The reverse flag can be set to sort in descending order.\n",
      "\n"
     ]
    }
   ],
   "source": [
    "help(list.sort)"
   ]
  },
  {
   "cell_type": "markdown",
   "id": "4674cd5a",
   "metadata": {},
   "source": [
    "10. Write a Python program to match key values in two dictionaries. Go to the editor"
   ]
  },
  {
   "cell_type": "code",
   "execution_count": 17,
   "id": "0b9194bf",
   "metadata": {},
   "outputs": [
    {
     "name": "stdout",
     "output_type": "stream",
     "text": [
      "key1: 1 is present in both x and y\n"
     ]
    }
   ],
   "source": [
    "#10\n",
    "x = {'key1': 1, 'key2': 3, 'key3': 2}\n",
    "y = {'key1': 1, 'key2': 2}\n",
    "for key in x:\n",
    "    if key in y and x[key] == y[key]:\n",
    "        print(f\"{key}: {x[key]} is present in both x and y\")\n"
   ]
  },
  {
   "cell_type": "markdown",
   "id": "f1cb00f8",
   "metadata": {},
   "source": [
    "11. Write a Python program to check a list is empty or not"
   ]
  },
  {
   "cell_type": "code",
   "execution_count": 19,
   "id": "dcf3207d",
   "metadata": {},
   "outputs": [
    {
     "name": "stdout",
     "output_type": "stream",
     "text": [
      "this list is not empty\n",
      "this list is not empty\n",
      "this list is not empty\n",
      "this list is not empty\n"
     ]
    }
   ],
   "source": [
    "#11\n",
    "list = ['a','b','c', 'd']\n",
    "for x in list:\n",
    "    if not list:\n",
    "        print(\"this is empty\")\n",
    "    else:\n",
    "        print(\"this list is not empty\")\n"
   ]
  },
  {
   "cell_type": "markdown",
   "id": "a6d72211",
   "metadata": {},
   "source": [
    "12. Write a Python program to remove duplicates from a list"
   ]
  },
  {
   "cell_type": "code",
   "execution_count": 29,
   "id": "4c8be8d5",
   "metadata": {},
   "outputs": [
    {
     "name": "stdout",
     "output_type": "stream",
     "text": [
      "[2, 4, 10, 20, 5]\n"
     ]
    }
   ],
   "source": [
    "#12\n",
    "# Python code to remove duplicate elements\n",
    "def Remove(duplicate):\n",
    "    final_list = []\n",
    "    for num in duplicate:\n",
    "            if num not in final_list:\n",
    "                    final_list.append(num)\n",
    "    return final_list\n",
    "\n",
    "# Driver Code\n",
    "duplicate = [2, 4, 10, 20, 5, 2, 20, 4]\n",
    "print(Remove(duplicate))\n"
   ]
  },
  {
   "cell_type": "markdown",
   "id": "763b4a1b",
   "metadata": {},
   "source": [
    "13. Write a Python function that takes two lists and returns True if they have at least one"
   ]
  },
  {
   "cell_type": "code",
   "execution_count": 12,
   "id": "1dce6776",
   "metadata": {},
   "outputs": [
    {
     "name": "stdout",
     "output_type": "stream",
     "text": [
      "True\n",
      "2\n",
      "True\n",
      "4\n"
     ]
    }
   ],
   "source": [
    "#13\n",
    "a = [1, 2, 3, 4 ]\n",
    "b = [4,5,6,2]\n",
    "for x in a :\n",
    "    for y in b:\n",
    "        if x==y:\n",
    "            print('True')\n",
    "            print(x)\n",
    "            \n"
   ]
  },
  {
   "cell_type": "markdown",
   "id": "6e5f0d69",
   "metadata": {},
   "source": [
    "14. Write a Python program to get the difference between the two lists"
   ]
  },
  {
   "cell_type": "code",
   "execution_count": 19,
   "id": "c781e7fe",
   "metadata": {},
   "outputs": [
    {
     "name": "stdout",
     "output_type": "stream",
     "text": [
      "[6, 8]\n"
     ]
    }
   ],
   "source": [
    "#14\n",
    "e= [2, 4, 6 , 8]\n",
    "f= [1, 2, 4, 7]\n",
    " \n",
    "diffrence= [x \n",
    "            \n",
    "            for x in e\n",
    "            if x not in f]\n",
    "print(diffrence)"
   ]
  },
  {
   "cell_type": "markdown",
   "id": "830f067e",
   "metadata": {},
   "source": [
    "15. Write a Python program to find the second smallest number in a list"
   ]
  },
  {
   "cell_type": "code",
   "execution_count": 28,
   "id": "47f674ee",
   "metadata": {},
   "outputs": [
    {
     "name": "stdout",
     "output_type": "stream",
     "text": [
      "5\n"
     ]
    }
   ],
   "source": [
    "#15\n",
    "l= [9,8,5,4]\n",
    "s=set(l)\n",
    "print (sorted(s)[1])"
   ]
  },
  {
   "cell_type": "markdown",
   "id": "ef7b00dd",
   "metadata": {},
   "source": [
    "16. Write a Python program to find the second largest number in a list."
   ]
  },
  {
   "cell_type": "code",
   "execution_count": 29,
   "id": "cb0e9a23",
   "metadata": {},
   "outputs": [
    {
     "name": "stdout",
     "output_type": "stream",
     "text": [
      "8\n"
     ]
    }
   ],
   "source": [
    "#16\n",
    "l= [9,8,5,4]\n",
    "s=set(l)\n",
    "print (sorted(s)[-2])"
   ]
  },
  {
   "cell_type": "markdown",
   "id": "9d64c3cc",
   "metadata": {},
   "source": [
    "17. Write a Python program to get the frequency of the elements in a list\n"
   ]
  },
  {
   "cell_type": "code",
   "execution_count": 37,
   "id": "22569dbe",
   "metadata": {},
   "outputs": [
    {
     "name": "stdout",
     "output_type": "stream",
     "text": [
      "{'A': 3, 'B': 2, 'D': 2, 'G': 1}\n"
     ]
    }
   ],
   "source": [
    "#17\n",
    "r_list= ['A', 'B', 'D', 'G', 'D', 'A', 'A', 'B']\n",
    "frequency={}\n",
    "\n",
    "for x in r_list:\n",
    "    if x in frequency:\n",
    "        frequency[x]+=1\n",
    "    else:\n",
    "        frequency[x]=1\n",
    "        \n",
    "print(frequency)"
   ]
  },
  {
   "cell_type": "markdown",
   "id": "3ecba66c",
   "metadata": {},
   "source": [
    "18. Write a Python program to convert a list of multiple integers into a single integer"
   ]
  },
  {
   "cell_type": "code",
   "execution_count": 38,
   "id": "9cb326c3",
   "metadata": {},
   "outputs": [
    {
     "name": "stdout",
     "output_type": "stream",
     "text": [
      "9854"
     ]
    }
   ],
   "source": [
    "#18\n",
    "l= [9,8,5,4]\n",
    "for x in l:\n",
    "    print(x, end='')"
   ]
  },
  {
   "cell_type": "markdown",
   "id": "79d78447",
   "metadata": {},
   "source": [
    "19. Write a Python program to compute the similarity between two lists"
   ]
  },
  {
   "cell_type": "code",
   "execution_count": 46,
   "id": "eb29e77b",
   "metadata": {},
   "outputs": [
    {
     "name": "stdout",
     "output_type": "stream",
     "text": [
      "['red', 'orange', 'white']\n",
      "['black', 'yellow']\n"
     ]
    }
   ],
   "source": [
    "#19\n",
    "data_1=['red','orange', 'green', 'blue', 'white']\n",
    "data_2=['black', 'yellow', 'green', 'blue']\n",
    "d1=[]\n",
    "d2=[]\n",
    "for x in data_1:\n",
    "    if x not in data_2:\n",
    "        d1.append(x)\n",
    "for y in data_2:\n",
    "    if y not in data_1:\n",
    "        d2.append(y)\n",
    "print(d1)  \n",
    "print(d2)"
   ]
  },
  {
   "cell_type": "markdown",
   "id": "7a9765d7",
   "metadata": {},
   "source": [
    "20. Write a Python program to check if all dictionaries in a list are empty or not"
   ]
  },
  {
   "cell_type": "code",
   "execution_count": 1,
   "id": "08700dc5",
   "metadata": {},
   "outputs": [
    {
     "name": "stdout",
     "output_type": "stream",
     "text": [
      "True\n",
      "False\n"
     ]
    }
   ],
   "source": [
    "#20\n",
    "list1 = [{}, {}, {}]\n",
    "list2 = [{1: 2}, {}, {}]\n",
    "result1 = all(not d for d in list1)\n",
    "result2 = all(not d for d in list2)\n",
    "# Print the results\n",
    "print(result1)\n",
    "print(result2)\n",
    "\n"
   ]
  },
  {
   "cell_type": "markdown",
   "id": "62e43c25",
   "metadata": {},
   "source": [
    "21. Write a Python program to count the number of characters (character frequency) in a\n",
    "string"
   ]
  },
  {
   "cell_type": "code",
   "execution_count": 4,
   "id": "d7df5a77",
   "metadata": {},
   "outputs": [
    {
     "name": "stdout",
     "output_type": "stream",
     "text": [
      "{'g': 2, 'o': 3, 'l': 1, 'e': 1, '.': 1, 'c': 1, 'm': 1}\n"
     ]
    }
   ],
   "source": [
    "#21\n",
    "str = \"google.com\"\n",
    "char_dict = {}\n",
    "\n",
    "for x in str:\n",
    "    if x in char_dict:\n",
    "        char_dict[x]+= 1\n",
    "    else:\n",
    "        char_dict[x]= 1\n",
    "        \n",
    "print(char_dict)        \n",
    "    \n"
   ]
  },
  {
   "cell_type": "markdown",
   "id": "94fb3ff3",
   "metadata": {},
   "source": [
    "22. Write a Python program to get a string from a given string where all occurrences of its\n",
    "first char have been changed to '$' ,except the first char itself."
   ]
  },
  {
   "cell_type": "code",
   "execution_count": 1,
   "id": "98e85861",
   "metadata": {},
   "outputs": [
    {
     "name": "stdout",
     "output_type": "stream",
     "text": [
      "resta$t\n"
     ]
    }
   ],
   "source": [
    "#22\n",
    "sample_str ='restart'\n",
    "first_char = sample_str[0]\n",
    "modify_str = first_char+ sample_str[1:].replace(first_char,'$')\n",
    "print(modify_str)\n"
   ]
  },
  {
   "cell_type": "code",
   "execution_count": 15,
   "id": "2b1aa9fd",
   "metadata": {},
   "outputs": [
    {
     "data": {
      "text/plain": [
       "3"
      ]
     },
     "execution_count": 15,
     "metadata": {},
     "output_type": "execute_result"
    }
   ],
   "source": [
    "len(n[1])"
   ]
  },
  {
   "cell_type": "markdown",
   "id": "e2c43f4d",
   "metadata": {},
   "source": [
    "23. Write a Python function that takes a list of words and returns the length of the longest\n",
    "one\n"
   ]
  },
  {
   "cell_type": "code",
   "execution_count": 16,
   "id": "f11901ae",
   "metadata": {},
   "outputs": [
    {
     "name": "stdout",
     "output_type": "stream",
     "text": [
      "8\n"
     ]
    }
   ],
   "source": [
    "#23\n",
    "li= ['fjhg','th','kl','hgdfgddd']\n",
    "\n",
    "def get_longest_length(li):\n",
    "    length=0\n",
    "    for val in li:\n",
    "        if len(val)>length:\n",
    "            length=len(val)\n",
    "    return length\n",
    "print(get_longest_length(li))"
   ]
  },
  {
   "cell_type": "markdown",
   "id": "1ab27a2b",
   "metadata": {},
   "source": [
    "24. Write a Python program to count the occurrences of each word in a given sentence"
   ]
  },
  {
   "cell_type": "code",
   "execution_count": null,
   "id": "2c96b3a2",
   "metadata": {},
   "outputs": [],
   "source": [
    "#from collections import Counter\n",
    "sentence= 'This is a sample sentence.This is another sentence.'\n",
    "\n",
    "word_counts = Counter(sentence.split())\n",
    "\n",
    "print(word_counts)\n"
   ]
  },
  {
   "cell_type": "markdown",
   "id": "375566f7",
   "metadata": {},
   "source": [
    "25. Write a Python function to convert a given string to all uppercase if it contains at least 2\n",
    "uppercase characters in the first 4 characters."
   ]
  },
  {
   "cell_type": "code",
   "execution_count": 4,
   "id": "383dab79",
   "metadata": {},
   "outputs": [
    {
     "name": "stdout",
     "output_type": "stream",
     "text": [
      "HELLO WORLD\n"
     ]
    }
   ],
   "source": [
    "str1=\"HelLo World\"\n",
    "str1_slice=str1[:4]\n",
    "count=0\n",
    "for val in str1_slice:\n",
    "    if val.isupper():\n",
    "        count+=1\n",
    "        \n",
    "if count>=2:\n",
    "    str1=str1.upper()\n",
    "    \n",
    "print(str1)"
   ]
  },
  {
   "cell_type": "markdown",
   "id": "818ef62c",
   "metadata": {},
   "source": [
    "26. Write a Python program to count and display the vowels of a given text\n"
   ]
  },
  {
   "cell_type": "code",
   "execution_count": 10,
   "id": "0ebeb19c",
   "metadata": {},
   "outputs": [
    {
     "name": "stdout",
     "output_type": "stream",
     "text": [
      "Enter the string : ouie\n",
      "4\n"
     ]
    }
   ],
   "source": [
    "st=input(\"Enter the string : \")\n",
    "c=0\n",
    "vowel='AEIOUaeiou'\n",
    "for i in st:\n",
    "        if i in vowel:\n",
    "         c+=1\n",
    "print(c)\n"
   ]
  },
  {
   "cell_type": "markdown",
   "id": "9aa2f3f6",
   "metadata": {},
   "source": [
    "27. Write a Python program to create a tuple with different data types.\n"
   ]
  },
  {
   "cell_type": "code",
   "execution_count": 8,
   "id": "982400b4",
   "metadata": {},
   "outputs": [
    {
     "name": "stdout",
     "output_type": "stream",
     "text": [
      "(3, 4, 7.8, 'ram', True)\n"
     ]
    }
   ],
   "source": [
    "tupple=(3,4,7.8,'ram', True)\n",
    "\n",
    "print(tupple)"
   ]
  },
  {
   "cell_type": "markdown",
   "id": "0c2e26c6",
   "metadata": {},
   "source": [
    "28. Write a Python program to add an item in a tuple\n"
   ]
  },
  {
   "cell_type": "code",
   "execution_count": 9,
   "id": "3d64a4a8",
   "metadata": {},
   "outputs": [
    {
     "name": "stdout",
     "output_type": "stream",
     "text": [
      "(2, 3, 3.5, 'you', 1, 4, 5.5, 'me')\n"
     ]
    }
   ],
   "source": [
    "t1=(2,3, 3.5, 'you' )\n",
    "t2=(1,4,5.5,'me')\n",
    "t3=t1+t2\n",
    "\n",
    "print(t3)"
   ]
  },
  {
   "cell_type": "markdown",
   "id": "5d221dda",
   "metadata": {},
   "source": [
    "29. Write a Python program to convert a tuple to a string.\n"
   ]
  },
  {
   "cell_type": "code",
   "execution_count": 6,
   "id": "e97507bf",
   "metadata": {},
   "outputs": [
    {
     "name": "stdout",
     "output_type": "stream",
     "text": [
      "jackson\n"
     ]
    }
   ],
   "source": [
    "def converttuple(tup):\n",
    "    str= ''\n",
    "    for item in tup:\n",
    "        str= str+item\n",
    "    return str   \n",
    "\n",
    "tuple=('j','a', 'c', 'k', 's', 'o', 'n')\n",
    "str= converttuple(tuple)\n",
    "print(str)"
   ]
  },
  {
   "cell_type": "markdown",
   "id": "8c5403ab",
   "metadata": {},
   "source": [
    "30. Write a Python program to find the repeated items of a tuple"
   ]
  },
  {
   "cell_type": "code",
   "execution_count": 20,
   "id": "e60c5402",
   "metadata": {},
   "outputs": [
    {
     "name": "stdout",
     "output_type": "stream",
     "text": [
      "[2, 3, 7]\n"
     ]
    }
   ],
   "source": [
    "input_tuple = (1,2,2,3,3,4,5,6,7,7)\n",
    "count_dict={}\n",
    "repeated_items=[]\n",
    "\n",
    "for item in input_tuple:\n",
    "    if item in count_dict:\n",
    "        count_dict[item]+= 1\n",
    "        repeated_items.append(item)\n",
    "    else:\n",
    "         count_dict[item]=1\n",
    "\n",
    "print(repeated_items)\n",
    "           \n",
    "         \n"
   ]
  },
  {
   "cell_type": "markdown",
   "id": "a5bb11d3",
   "metadata": {},
   "source": [
    "31. Write a Python program to find the length of a tuple."
   ]
  },
  {
   "cell_type": "code",
   "execution_count": 11,
   "id": "3829cb1e",
   "metadata": {},
   "outputs": [
    {
     "name": "stdout",
     "output_type": "stream",
     "text": [
      "5\n"
     ]
    }
   ],
   "source": [
    "tup= ('noway', 1, 6, 9, 'rani')\n",
    "\n",
    "tup_len= len(tup)\n",
    "print(tup_len)"
   ]
  },
  {
   "cell_type": "markdown",
   "id": "3e190825",
   "metadata": {},
   "source": [
    "32. Write a Python program to convert a tuple to a dictionary"
   ]
  },
  {
   "cell_type": "code",
   "execution_count": 12,
   "id": "bf14e639",
   "metadata": {},
   "outputs": [
    {
     "name": "stdout",
     "output_type": "stream",
     "text": [
      "{'d': 8, 'j': 10, 's': 3}\n"
     ]
    }
   ],
   "source": [
    "my_tuple = ((\"d\", 8) ,(\"j\" , 10) ,(\"s\",3))\n",
    "\n",
    "my_dict = dict(my_tuple)\n",
    "\n",
    "print(my_dict)\n"
   ]
  },
  {
   "cell_type": "markdown",
   "id": "ebdf05c8",
   "metadata": {},
   "source": [
    "33. Write a Python program to replace last value of tuples in a list.\n"
   ]
  },
  {
   "cell_type": "code",
   "execution_count": 20,
   "id": "33f71d63",
   "metadata": {},
   "outputs": [
    {
     "name": "stdout",
     "output_type": "stream",
     "text": [
      "[(10, 20, 100), (40, 50, 100), (70, 80, 100)]\n"
     ]
    }
   ],
   "source": [
    "s_list = [(10, 20, 40), (40, 50, 60), (70, 80, 90)]\n",
    "\n",
    "new_value = 100\n",
    "\n",
    "modified_list = [(x[:-1] + (new_value,) )for x in s_list]\n",
    "\n",
    "print(modified_list)"
   ]
  },
  {
   "cell_type": "markdown",
   "id": "c23674aa",
   "metadata": {},
   "source": [
    "34. Write a Python program to replace last value of tuples in a list."
   ]
  },
  {
   "cell_type": "code",
   "execution_count": 22,
   "id": "9d904584",
   "metadata": {},
   "outputs": [
    {
     "name": "stdout",
     "output_type": "stream",
     "text": [
      "[('a', 'b'), ('a', 'b', 'c'), 'd']\n"
     ]
    }
   ],
   "source": [
    "s_List = [(), (), ('',), ('a', 'b'), ('a', 'b', 'c'), ('d')]\n",
    "modified_item = [x\n",
    "                 for x in s_List\n",
    "                 if x and x[-1]]\n",
    "          \n",
    "print(modified_item)          \n",
    "          "
   ]
  },
  {
   "cell_type": "markdown",
   "id": "0e64794e",
   "metadata": {},
   "source": [
    "35. Write a Python program to sort a tuple by its float element"
   ]
  },
  {
   "cell_type": "code",
   "execution_count": 29,
   "id": "233ea60c",
   "metadata": {},
   "outputs": [
    {
     "name": "stdout",
     "output_type": "stream",
     "text": [
      "[('con', '32'), ('sam', '26'), ('rom', '23'), ('jack', '20')]\n"
     ]
    }
   ],
   "source": [
    "tup= [(\"jack\", \"20\"), (\"con\", \"32\"), (\"rom\", \"23\"), (\"sam\",\"26\")]\n",
    "\n",
    "tup.sort(key=lambda x:x[1], reverse=True)\n",
    "print(tup)"
   ]
  },
  {
   "cell_type": "markdown",
   "id": "77bf2218",
   "metadata": {},
   "source": [
    "36. Write a Python program to count the elements in a list until an element is a tuple"
   ]
  },
  {
   "cell_type": "code",
   "execution_count": 24,
   "id": "21ad9276",
   "metadata": {},
   "outputs": [
    {
     "name": "stdout",
     "output_type": "stream",
     "text": [
      "number of element before first tuple 3\n"
     ]
    }
   ],
   "source": [
    "my_list = [1,2,3,(4,5),7,8,9]\n",
    "\n",
    "count = 0\n",
    "\n",
    "for x in my_list:\n",
    "    if type(x) is tuple:\n",
    "        break\n",
    "    count+=1\n",
    "print(\"number of element before first tuple\",count)"
   ]
  },
  {
   "cell_type": "markdown",
   "id": "0c3a5486",
   "metadata": {},
   "source": [
    "37. Write a Python program to iteration over sets\n"
   ]
  },
  {
   "cell_type": "code",
   "execution_count": 39,
   "id": "f1931f03",
   "metadata": {},
   "outputs": [
    {
     "name": "stdout",
     "output_type": "stream",
     "text": [
      "2\n",
      "4\n",
      "6\n",
      "8\n",
      "10\n"
     ]
    }
   ],
   "source": [
    "set_1= {2,4,6,8,10}\n",
    "\n",
    "for x in set_1:\n",
    "    print(x)"
   ]
  },
  {
   "cell_type": "markdown",
   "id": "45f05901",
   "metadata": {},
   "source": [
    "38. Write a Python program to add member(s) in a set"
   ]
  },
  {
   "cell_type": "code",
   "execution_count": 41,
   "id": "8bbb22b0",
   "metadata": {},
   "outputs": [
    {
     "name": "stdout",
     "output_type": "stream",
     "text": [
      "{2, 4, 5, 7, 8, 9, 90, 77}\n"
     ]
    }
   ],
   "source": [
    "my_set= {2,4,5,7,8,9,90}\n",
    "\n",
    "my_set.add(77)\n",
    "\n",
    "print(my_set)"
   ]
  },
  {
   "cell_type": "markdown",
   "id": "b926e097",
   "metadata": {},
   "source": [
    "39. Write a Python program to remove item(s) from set\n"
   ]
  },
  {
   "cell_type": "code",
   "execution_count": 42,
   "id": "43bab414",
   "metadata": {},
   "outputs": [
    {
     "name": "stdout",
     "output_type": "stream",
     "text": [
      "{2, 4, 5, 7, 8, 9}\n"
     ]
    }
   ],
   "source": [
    "my_set= {2,4,5,7,8,9,90}\n",
    "\n",
    "my_set.remove(90)\n",
    "\n",
    "print(my_set)\n",
    "\n"
   ]
  },
  {
   "cell_type": "markdown",
   "id": "b6395f80",
   "metadata": {},
   "source": [
    "40. Write a Python program to remove an item from a set if it is present in the set\n"
   ]
  },
  {
   "cell_type": "code",
   "execution_count": 43,
   "id": "47f64f34",
   "metadata": {},
   "outputs": [
    {
     "name": "stdout",
     "output_type": "stream",
     "text": [
      "{1, 2, 4, 5}\n"
     ]
    }
   ],
   "source": [
    "my_set = {1, 2, 3, 4, 5}\n",
    "\n",
    "item_remove = 3\n",
    "# Remove the item from the set (if present)\n",
    "\n",
    "my_set.discard(item_remove)\n",
    "\n",
    "print(my_set)"
   ]
  },
  {
   "cell_type": "markdown",
   "id": "c2e01e17",
   "metadata": {},
   "source": [
    "41. Write a Python program to create an intersection of sets"
   ]
  },
  {
   "cell_type": "code",
   "execution_count": 44,
   "id": "dac3908f",
   "metadata": {},
   "outputs": [
    {
     "name": "stdout",
     "output_type": "stream",
     "text": [
      "{3, 4, 5}\n"
     ]
    }
   ],
   "source": [
    "my_set1 = {1, 2, 3, 4, 5}\n",
    "\n",
    "my_set2 = {3, 4, 5, 6, 7}\n",
    "\n",
    "my_set3 = my_set2 & my_set1\n",
    "\n",
    "print(my_set3)"
   ]
  },
  {
   "cell_type": "markdown",
   "id": "da056146",
   "metadata": {},
   "source": [
    "42. Write a Python program to create a symmetric difference"
   ]
  },
  {
   "cell_type": "code",
   "execution_count": 45,
   "id": "bdca9a1e",
   "metadata": {},
   "outputs": [
    {
     "name": "stdout",
     "output_type": "stream",
     "text": [
      "{1, 2, 6, 7}\n"
     ]
    }
   ],
   "source": [
    "my_set1 = {1, 2, 3, 4, 5}\n",
    "\n",
    "my_set2 = {3,4,5,6,7}\n",
    "\n",
    "my_set3 = my_set1 ^ my_set2\n",
    "\n",
    "print(my_set3)"
   ]
  },
  {
   "cell_type": "markdown",
   "id": "8cbdbda2",
   "metadata": {},
   "source": [
    "43. Write a Python program to find maximum and the minimum value in a set."
   ]
  },
  {
   "cell_type": "code",
   "execution_count": 47,
   "id": "e362b1b6",
   "metadata": {},
   "outputs": [
    {
     "name": "stdout",
     "output_type": "stream",
     "text": [
      "9832\n",
      "75\n"
     ]
    }
   ],
   "source": [
    "my_set1 = {12, 213, 3423, 9832, 533}\n",
    "my_set2 = {313,432,5391,6283,75}\n",
    "\n",
    "my_set3 = max(my_set1)\n",
    "my_set4 = min(my_set2)\n",
    "\n",
    "print(my_set3)\n",
    "print(my_set4)"
   ]
  },
  {
   "cell_type": "markdown",
   "id": "5c4175be",
   "metadata": {},
   "source": [
    "44. Write a Python program to find the length of a set."
   ]
  },
  {
   "cell_type": "code",
   "execution_count": 48,
   "id": "a4ae009f",
   "metadata": {},
   "outputs": [
    {
     "name": "stdout",
     "output_type": "stream",
     "text": [
      "5\n",
      "5\n"
     ]
    }
   ],
   "source": [
    "my_set1 = {1318, 213, 3323, 432, 533}\n",
    "my_set2 = {4123,3312,231,723,756}\n",
    "\n",
    "my_set3 = len(my_set1)\n",
    "my_set4 = len(my_set2)\n",
    "\n",
    "print(my_set3)\n",
    "print(my_set4)\n"
   ]
  },
  {
   "cell_type": "markdown",
   "id": "f794fa82",
   "metadata": {},
   "source": [
    " #45. Write a Python program to construct the following pattern, using a nested for loop. * * * * * * * * * * * * * * * * * * * * * * * * *"
   ]
  },
  {
   "cell_type": "code",
   "execution_count": 1,
   "id": "0de33e23",
   "metadata": {},
   "outputs": [
    {
     "name": "stdout",
     "output_type": "stream",
     "text": [
      "*\n",
      "**\n",
      "***\n",
      "****\n",
      "*****\n",
      "****\n",
      "***\n",
      "**\n",
      "*\n"
     ]
    }
   ],
   "source": [
    "print('*')\n",
    "print('**')\n",
    "print('***')\n",
    "print('****')\n",
    "print('*****')\n",
    "print('****')\n",
    "print('***')\n",
    "print('**')\n",
    "print('*')\n"
   ]
  },
  {
   "cell_type": "markdown",
   "id": "f967ae41",
   "metadata": {},
   "source": [
    "46. Write a Python program to count the number of even and odd numbers from a series of\n",
    "numbers.\n"
   ]
  },
  {
   "cell_type": "code",
   "execution_count": 2,
   "id": "2a8d64b6",
   "metadata": {},
   "outputs": [
    {
     "name": "stdout",
     "output_type": "stream",
     "text": [
      "number of even number is: 4\n",
      "number of odd number is: 5\n"
     ]
    }
   ],
   "source": [
    "num=(1, 2, 3, 4, 5, 6, 7, 8, 9)\n",
    "\n",
    "even_num=0\n",
    "odd_num=0\n",
    " \n",
    "for i in num:\n",
    "    if i%2==0:\n",
    "        even_num+=1\n",
    "    else:\n",
    "        odd_num+=1\n",
    "        \n",
    "print('number of even number is:', even_num)\n",
    "print('number of odd number is:', odd_num)\n",
    "        "
   ]
  },
  {
   "cell_type": "markdown",
   "id": "cfa43096",
   "metadata": {},
   "source": [
    "47. Write a Python program that prints all the numbers from 0 to 6 except 3 and 6.\n"
   ]
  },
  {
   "cell_type": "code",
   "execution_count": 7,
   "id": "f48f4a79",
   "metadata": {},
   "outputs": [
    {
     "name": "stdout",
     "output_type": "stream",
     "text": [
      "0 1 2 4 5 "
     ]
    }
   ],
   "source": [
    "for num in range(7):\n",
    "    if num ==3 or num==6:\n",
    "        continue\n",
    "    print(num, end=' ')"
   ]
  },
  {
   "cell_type": "markdown",
   "id": "af0013d5",
   "metadata": {},
   "source": [
    "48. Write a Python program to get the Fibonacci series between 0 to 50"
   ]
  },
  {
   "cell_type": "code",
   "execution_count": 2,
   "id": "71debc93",
   "metadata": {},
   "outputs": [
    {
     "name": "stdout",
     "output_type": "stream",
     "text": [
      "0 1 1 2 3 5 8 13 21 34 "
     ]
    }
   ],
   "source": [
    "# Initialize variables for the first two Fibonacci numbers\n",
    "a, b = 0, 1\n",
    "\n",
    "# Print the initial 1 (the first Fibonacci number)\n",
    "print(a, end=' ')\n",
    "\n",
    "# Generate and print the Fibonacci series up to 50\n",
    "while b <= 50:\n",
    "    print(b, end=' ')\n",
    "    a, b = b, a + b"
   ]
  },
  {
   "cell_type": "markdown",
   "id": "f6f9131e",
   "metadata": {},
   "source": [
    "49. Write a Python program which takes two digits m (row) and n (column) as input and\n",
    "generates a two-dimensional array. The element value in the i-th row and j-th column of the array should be i*j\n",
    "Note :\n",
    "i = 0,1.., m-1\n",
    "j = 0,1, n-1.\n",
    "Test Data : Rows = 3, Columns = 4\n",
    "Expected Result : [[0, 0, 0, 0], [0, 1, 2, 3], [0, 2, 4, 6]]"
   ]
  },
  {
   "cell_type": "code",
   "execution_count": 16,
   "id": "af8b6e79",
   "metadata": {},
   "outputs": [
    {
     "name": "stdout",
     "output_type": "stream",
     "text": [
      "enter the number of rows: 3\n",
      "enter the number of column: 4\n",
      "[0, 0, 0, 0]\n",
      "[0, 1, 2, 3]\n",
      "[0, 2, 4, 6]\n"
     ]
    }
   ],
   "source": [
    "rows=int(input(\"enter the number of rows: \"))\n",
    "colums=int(input(\"enter the number of column: \"))\n",
    "\n",
    "array_2B=[[i*j for j in range(columns)]\n",
    "                for i in range(rows)]\n",
    "\n",
    "for rows in array_2B:\n",
    "    print(rows)"
   ]
  },
  {
   "cell_type": "markdown",
   "id": "875689ff",
   "metadata": {},
   "source": [
    "50. Write a Python program to find numbers between 100 and 400 (both included) where\n",
    "each digit of a number is an even number. The numbers obtained should be printed in a comma-separated sequence"
   ]
  },
  {
   "cell_type": "code",
   "execution_count": 21,
   "id": "a90ecf06",
   "metadata": {},
   "outputs": [
    {
     "name": "stdout",
     "output_type": "stream",
     "text": [
      "[100, 102, 104, 106, 108, 110, 112, 114, 116, 118, 120, 122, 124, 126, 128, 130, 132, 134, 136, 138, 140, 142, 144, 146, 148, 150, 152, 154, 156, 158, 160, 162, 164, 166, 168, 170, 172, 174, 176, 178, 180, 182, 184, 186, 188, 190, 192, 194, 196, 198, 200, 202, 204, 206, 208, 210, 212, 214, 216, 218, 220, 222, 224, 226, 228, 230, 232, 234, 236, 238, 240, 242, 244, 246, 248, 250, 252, 254, 256, 258, 260, 262, 264, 266, 268, 270, 272, 274, 276, 278, 280, 282, 284, 286, 288, 290, 292, 294, 296, 298, 300, 302, 304, 306, 308, 310, 312, 314, 316, 318, 320, 322, 324, 326, 328, 330, 332, 334, 336, 338, 340, 342, 344, 346, 348, 350, 352, 354, 356, 358, 360, 362, 364, 366, 368, 370, 372, 374, 376, 378, 380, 382, 384, 386, 388, 390, 392, 394, 396, 398, 400]\n"
     ]
    }
   ],
   "source": [
    "# for val in range(100, 401):\n",
    "\n",
    "#     print(val)\n",
    "from copy import copy\n",
    "    \n",
    "def is_even(val):\n",
    "    return val % 2==0\n",
    "\n",
    "def get_even_num(num):\n",
    "    num_copy=copy(num)\n",
    "    while num:\n",
    "        val = num % 10\n",
    "        num = num // 10\n",
    "        if not is_even(val):\n",
    "            return None\n",
    "        return num_copy\n",
    "                        \n",
    "        \n",
    "num_li= []\n",
    "\n",
    "for val in range (100, 401):\n",
    "    if get_even_num(val):\n",
    "        num_li.append(val)\n",
    "        \n",
    "print(num_li)"
   ]
  },
  {
   "cell_type": "code",
   "execution_count": 96,
   "id": "d36b1943",
   "metadata": {},
   "outputs": [
    {
     "name": "stdout",
     "output_type": "stream",
     "text": [
      "[200, 202, 204, 206, 208, 220, 222, 224, 226, 228, 240, 242, 244, 246, 248, 260, 262, 264, 266, 268, 280, 282, 284, 286, 288, 400]\n"
     ]
    }
   ],
   "source": [
    "def each_even(a):\n",
    "    num=a\n",
    "    st_num=[i for i in str(a)]\n",
    "    st=''\n",
    "    for even in st_num:\n",
    "        if int(even)%2==0:\n",
    "            st+=str(even)\n",
    "    if st==num:\n",
    "        return int(st)\n",
    "    \n",
    "l1=[]\n",
    "\n",
    "for val in range (100, 401):\n",
    "    l1.append(each_even(str(val)))\n",
    "    \n",
    "answer=list(filter(lambda x: x!=None,l1))\n",
    "# for i in l1:\n",
    "#     if i!=None:\n",
    "#         answer.append(i)\n",
    "    \n",
    "print(answer)"
   ]
  },
  {
   "cell_type": "markdown",
   "id": "cf99abe5",
   "metadata": {},
   "source": [
    "52. Write a Python program to print alphabet pattern 'P'"
   ]
  },
  {
   "cell_type": "code",
   "execution_count": null,
   "id": "ac641101",
   "metadata": {},
   "outputs": [],
   "source": []
  },
  {
   "cell_type": "markdown",
   "id": "ab6a937e",
   "metadata": {},
   "source": [
    "53. Write a Python program to check a triangle is valid or not."
   ]
  },
  {
   "cell_type": "code",
   "execution_count": 17,
   "id": "3be7cd13",
   "metadata": {},
   "outputs": [
    {
     "name": "stdout",
     "output_type": "stream",
     "text": [
      "enter the value of first side: 7\n",
      "enter the value of second side: 7\n",
      "enter the value of third side: 7\n",
      "it's a triangle\n"
     ]
    }
   ],
   "source": [
    "s_1=float(input(\"enter the value of first side: \"))\n",
    "s_2=float(input(\"enter the value of second side: \"))\n",
    "s_3=float(input(\"enter the value of third side: \"))\n",
    "\n",
    "if (s_1+s_2>s_3) and (s_2+s_3>s_1) and (s_3+s_1>s_2):\n",
    "    print(\"it's a triangle\")\n",
    "else:\n",
    "    print(\"it's not triangle\")\n",
    "    "
   ]
  },
  {
   "cell_type": "markdown",
   "id": "da0cb53e",
   "metadata": {},
   "source": [
    "54. Write a Python program to create the multiplication table (from 1 to 10) of a number\n"
   ]
  },
  {
   "cell_type": "code",
   "execution_count": 18,
   "id": "025991bb",
   "metadata": {},
   "outputs": [
    {
     "name": "stdout",
     "output_type": "stream",
     "text": [
      "11 * 1 = 11\n",
      "11 * 2 = 22\n",
      "11 * 3 = 33\n",
      "11 * 4 = 44\n",
      "11 * 5 = 55\n",
      "11 * 6 = 66\n",
      "11 * 7 = 77\n",
      "11 * 8 = 88\n",
      "11 * 9 = 99\n",
      "11 * 10 = 110\n"
     ]
    }
   ],
   "source": [
    "num = 11\n",
    "for i in range(1,11):\n",
    "    print(num,\"*\",i,\"=\", num*i)"
   ]
  },
  {
   "cell_type": "markdown",
   "id": "f1dbd74c",
   "metadata": {},
   "source": [
    "55. Write a Python program to construct the following pattern, using a nested loop number.\n",
    "1 22 333 4444 55555 666666 7777777 88888888 999999999"
   ]
  },
  {
   "cell_type": "code",
   "execution_count": 21,
   "id": "dc503b8c",
   "metadata": {},
   "outputs": [
    {
     "name": "stdout",
     "output_type": "stream",
     "text": [
      "1 \n",
      "2 2 \n",
      "3 3 3 \n",
      "4 4 4 4 \n",
      "5 5 5 5 5 \n",
      "6 6 6 6 6 6 \n",
      "7 7 7 7 7 7 7 \n",
      "8 8 8 8 8 8 8 8 \n",
      "9 9 9 9 9 9 9 9 9 \n"
     ]
    }
   ],
   "source": [
    " num = 9\n",
    "for i in range(1,num + 1):\n",
    "    for j in range(i):\n",
    "        print(i,end=\" \")\n",
    "    print()"
   ]
  },
  {
   "cell_type": "markdown",
   "id": "d1ace144",
   "metadata": {},
   "source": [
    "56. Write a Python function to find the Max of three numbers."
   ]
  },
  {
   "cell_type": "code",
   "execution_count": 22,
   "id": "a63ad808",
   "metadata": {},
   "outputs": [
    {
     "name": "stdout",
     "output_type": "stream",
     "text": [
      "500\n"
     ]
    }
   ],
   "source": [
    "a=399\n",
    "b=78\n",
    "c=500\n",
    "\n",
    "max_num=max(a,b,c)\n",
    "print(max_num)"
   ]
  },
  {
   "cell_type": "markdown",
   "id": "1bfd3242",
   "metadata": {},
   "source": [
    "57. Write a Python function to sum all the numbers in a list"
   ]
  },
  {
   "cell_type": "code",
   "execution_count": 26,
   "id": "71f9ebc2",
   "metadata": {},
   "outputs": [
    {
     "name": "stdout",
     "output_type": "stream",
     "text": [
      "36\n"
     ]
    }
   ],
   "source": [
    "list=[11, 12, 13]\n",
    "\n",
    "sum_num= 11+12+13\n",
    "print(sum_num)"
   ]
  },
  {
   "cell_type": "markdown",
   "id": "8cd7e3c9",
   "metadata": {},
   "source": [
    "58. Write a Python function to multiply all the numbers in a list"
   ]
  },
  {
   "cell_type": "code",
   "execution_count": 27,
   "id": "1e3e6ba4",
   "metadata": {},
   "outputs": [
    {
     "name": "stdout",
     "output_type": "stream",
     "text": [
      "10800000\n"
     ]
    }
   ],
   "source": [
    "list = [10, 20, 30, 40, 45]\n",
    "\n",
    "mul_num = 10*20*30*40*45\n",
    "\n",
    "print(mul_num)"
   ]
  },
  {
   "cell_type": "markdown",
   "id": "abd1a64b",
   "metadata": {},
   "source": [
    "59. Write a Python function that accepts a string and calculate the number of upper case\n",
    "letters and lower case letters\n"
   ]
  },
  {
   "cell_type": "code",
   "execution_count": 28,
   "id": "afb97605",
   "metadata": {},
   "outputs": [
    {
     "name": "stdout",
     "output_type": "stream",
     "text": [
      "Uppercase letters:  5\n",
      "Lowercase letters:  5\n"
     ]
    }
   ],
   "source": [
    "str= \"HELLO world\"\n",
    "\n",
    "upper_count= 0\n",
    "lower_count= 0\n",
    "\n",
    "for x in str:\n",
    "    if x.isupper():\n",
    "        upper_count+=1\n",
    "    elif x.islower():\n",
    "        lower_count+=1\n",
    "        \n",
    "print(\"Uppercase letters: \", upper_count)\n",
    "print(\"Lowercase letters: \", lower_count)"
   ]
  },
  {
   "cell_type": "markdown",
   "id": "dc4a3110",
   "metadata": {},
   "source": [
    "60. Write a Python function that takes a list and returns a new list with unique elements of\n",
    "the first list"
   ]
  },
  {
   "cell_type": "code",
   "execution_count": 29,
   "id": "8e2d72b9",
   "metadata": {},
   "outputs": [
    {
     "name": "stdout",
     "output_type": "stream",
     "text": [
      "input list: [1, 2, 2, 3, 3, 4, 5, 5]\n",
      "Unique Elements: [{1, 2, 3, 4, 5}]\n"
     ]
    }
   ],
   "source": [
    "input_list = [1, 2, 2, 3, 3, 4, 5, 5]\n",
    "\n",
    "unique_set = [set(input_list)]\n",
    "\n",
    "print(\"input list:\",input_list)\n",
    "print(\"Unique Elements:\",unique_set)"
   ]
  },
  {
   "cell_type": "markdown",
   "id": "10822298",
   "metadata": {},
   "source": [
    "61. Write a Python program to print the even numbers from a given list"
   ]
  },
  {
   "cell_type": "code",
   "execution_count": 31,
   "id": "ecea7274",
   "metadata": {},
   "outputs": [
    {
     "name": "stdout",
     "output_type": "stream",
     "text": [
      "2\n",
      "4\n",
      "6\n",
      "8\n"
     ]
    }
   ],
   "source": [
    "numbers = [1,2,3,4,5,6,7,8,123]\n",
    "\n",
    "for num in numbers:\n",
    "    if num % 2 == 0:\n",
    "        print(num)"
   ]
  },
  {
   "cell_type": "markdown",
   "id": "f17482b7",
   "metadata": {},
   "source": [
    "62. Write a Python function that checks whether a passed string is palindrome or not"
   ]
  },
  {
   "cell_type": "code",
   "execution_count": 1,
   "id": "b78f284a",
   "metadata": {},
   "outputs": [
    {
     "name": "stdout",
     "output_type": "stream",
     "text": [
      "this string is palindrome\n"
     ]
    }
   ],
   "source": [
    "str=\"bob\"\n",
    "\n",
    "def is_palindrome(s):\n",
    "    return s == s[::-1]\n",
    "if is_palindrome(str):\n",
    "    print(\"this string is palindrome\")\n",
    "else:\n",
    "    print(\"this string is not palindrome\")"
   ]
  },
  {
   "cell_type": "markdown",
   "id": "2bbbff37",
   "metadata": {},
   "source": [
    "63. Write a Python program to access a function inside a function"
   ]
  },
  {
   "cell_type": "code",
   "execution_count": 3,
   "id": "b509f55e",
   "metadata": {},
   "outputs": [
    {
     "name": "stdout",
     "output_type": "stream",
     "text": [
      "it's a outer function\n",
      "it's a inner function\n"
     ]
    }
   ],
   "source": [
    "def inner_function():\n",
    "    print(\"it's a inner function\")\n",
    "def outer_function():\n",
    "    print(\"it's a outer function\")\n",
    "    \n",
    "outer_function()\n",
    "inner_function()"
   ]
  },
  {
   "cell_type": "markdown",
   "id": "2176c149",
   "metadata": {},
   "source": [
    "64. Write a Python program to detect the number of local variables declared in a function."
   ]
  },
  {
   "cell_type": "code",
   "execution_count": 31,
   "id": "3a877763",
   "metadata": {},
   "outputs": [
    {
     "name": "stdout",
     "output_type": "stream",
     "text": [
      "2\n"
     ]
    }
   ],
   "source": [
    "def fun():\n",
    "    x= 3\n",
    "    str= 'Darshit'\n",
    "print(fun.__code__.co_nlocals)"
   ]
  },
  {
   "cell_type": "code",
   "execution_count": null,
   "id": "a4a40f0b",
   "metadata": {},
   "outputs": [],
   "source": []
  },
  {
   "cell_type": "code",
   "execution_count": null,
   "id": "8ba6453b",
   "metadata": {},
   "outputs": [],
   "source": []
  }
 ],
 "metadata": {
  "kernelspec": {
   "display_name": "Python 3 (ipykernel)",
   "language": "python",
   "name": "python3"
  },
  "language_info": {
   "codemirror_mode": {
    "name": "ipython",
    "version": 3
   },
   "file_extension": ".py",
   "mimetype": "text/x-python",
   "name": "python",
   "nbconvert_exporter": "python",
   "pygments_lexer": "ipython3",
   "version": "3.11.4"
  }
 },
 "nbformat": 4,
 "nbformat_minor": 5
}
